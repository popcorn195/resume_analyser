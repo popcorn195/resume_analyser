{
 "cells": [
  {
   "cell_type": "code",
   "execution_count": 22,
   "metadata": {},
   "outputs": [
    {
     "name": "stdout",
     "output_type": "stream",
     "text": [
      "Defaulting to user installation because normal site-packages is not writeable\n",
      "Requirement already satisfied: pdfplumber in c:\\users\\hp\\appdata\\roaming\\python\\python313\\site-packages (0.11.6)\n",
      "Requirement already satisfied: pytesseract in c:\\users\\hp\\appdata\\roaming\\python\\python313\\site-packages (0.3.13)\n",
      "Requirement already satisfied: pdf2image in c:\\users\\hp\\appdata\\roaming\\python\\python313\\site-packages (1.17.0)\n",
      "Requirement already satisfied: pdfminer.six==20250327 in c:\\users\\hp\\appdata\\roaming\\python\\python313\\site-packages (from pdfplumber) (20250327)\n",
      "Requirement already satisfied: Pillow>=9.1 in c:\\users\\hp\\appdata\\roaming\\python\\python313\\site-packages (from pdfplumber) (11.0.0)\n",
      "Requirement already satisfied: pypdfium2>=4.18.0 in c:\\users\\hp\\appdata\\roaming\\python\\python313\\site-packages (from pdfplumber) (4.30.1)\n",
      "Requirement already satisfied: charset-normalizer>=2.0.0 in c:\\users\\hp\\appdata\\roaming\\python\\python313\\site-packages (from pdfminer.six==20250327->pdfplumber) (3.4.1)\n",
      "Requirement already satisfied: cryptography>=36.0.0 in c:\\users\\hp\\appdata\\roaming\\python\\python313\\site-packages (from pdfminer.six==20250327->pdfplumber) (44.0.2)\n",
      "Requirement already satisfied: packaging>=21.3 in c:\\users\\hp\\appdata\\roaming\\python\\python313\\site-packages (from pytesseract) (24.2)\n",
      "Requirement already satisfied: cffi>=1.12 in c:\\users\\hp\\appdata\\roaming\\python\\python313\\site-packages (from cryptography>=36.0.0->pdfminer.six==20250327->pdfplumber) (1.17.1)\n",
      "Requirement already satisfied: pycparser in c:\\users\\hp\\appdata\\roaming\\python\\python313\\site-packages (from cffi>=1.12->cryptography>=36.0.0->pdfminer.six==20250327->pdfplumber) (2.22)\n",
      "Note: you may need to restart the kernel to use updated packages.\n"
     ]
    }
   ],
   "source": [
    "%pip install pdfplumber pytesseract pdf2image"
   ]
  },
  {
   "cell_type": "code",
   "execution_count": 19,
   "metadata": {},
   "outputs": [],
   "source": [
    "import pdfplumber\n",
    "import pytesseract\n",
    "from pdf2image import convert_from_path #if pdf not in textual format (OCR based system)"
   ]
  },
  {
   "cell_type": "code",
   "execution_count": 3,
   "metadata": {},
   "outputs": [],
   "source": [
    "def extract_text_from_pdf(pdf_path):\n",
    "    text=\"\"\n",
    "    try:\n",
    "        #direct text extraction\n",
    "        with pdfplumber.open(pdf_path) as pdf:\n",
    "            for page in pdf.pages:\n",
    "                page_text=page.extract_text()\n",
    "                if page_text:\n",
    "                    text+=page_text\n",
    "        if text.strip():\n",
    "            return text.strip()\n",
    "    except Exception as e:\n",
    "        print(f\"Direct text extraction failed: {e}\")\n",
    "        \n",
    "    #fallback to ocr for image based pdfs\n",
    "    print(\"Falling back to OCR for image-based PDF.\")\n",
    "    try:\n",
    "        images=convert_from_path(pdf_path)\n",
    "        for image in images:\n",
    "            page_text=pytesseract.image_to_string(image)\n",
    "            text+=page_text+\"\\n\"\n",
    "    except Exception as e:\n",
    "        print(f\"OCR failed: {e}\")\n",
    "\n",
    "    return text.strip()\n"
   ]
  },
  {
   "cell_type": "code",
   "execution_count": 4,
   "metadata": {},
   "outputs": [
    {
     "name": "stderr",
     "output_type": "stream",
     "text": [
      "CropBox missing from /Page, defaulting to MediaBox\n",
      "CropBox missing from /Page, defaulting to MediaBox\n"
     ]
    },
    {
     "name": "stdout",
     "output_type": "stream",
     "text": [
      "\n",
      "Extracted Text from PDF: \n",
      "J a n n a G a r d n e r\n",
      "4567 Main Street, Chicago, Illinois 98052 • (716) 555-0100 • janna@example.com\n",
      "Human Resources Generalist with 6+ years of experience assisting with and fulfilling organization staffing needs\n",
      "and requirements. A proven track record of using my excellent personal, communication and organization skills to\n",
      "lead and improve HR departments, recruit excellent personnel, and improve department efficiencies. Team player\n",
      "with excellent communication skills, high quality of work, driven and highly self-motivated. Strong negotiating skills\n",
      "and business acumen and able to work independently.\n",
      "Experience\n",
      "20XX – PRESENT\n",
      "Human Resources Generalist | Lamna Healthcare Company | Chicago, Illinois\n",
      "Review, update, and revise company hiring practices, vacation, and other human resources policies to ensure\n",
      "compliance with OSHA and all local, state, and federal labor regulations. By creating and maintaining a positive and\n",
      "responsive work environment, we raised employee retention rates by over 10% to achieve a greater than 90%\n",
      "employee retention over a 2-year period. Developed recruitment programs to successfully increase minority\n",
      "recruitment and meet affirmative action requirements. Led development team to build and deploy a dedicated\n",
      "recruitment website which reduced year-over-year recruitment costs by 14%.\n",
      "JUNE 20XX – AUGUST 20XX\n",
      "Human Resources Intern | Wholeness Healthcare | Boomtown, Ohio\n",
      "Assisted in recruitment outreach to prospective employees. Organized and conducted several seminars for hospital\n",
      "employees to educate and update them regarding available employment benefit options. Arranged hospital-wide\n",
      "guest speakers symposia to educate management about new employment laws and workplace confidence and\n",
      "morale building techniques. Administrative tasks.\n",
      "Skills\n",
      "Type 96 words per minute • Proficient with project management software • Team player • Excellent time\n",
      "management skills • Conflict management • Public speaking • Data analytics\n",
      "Education\n",
      "MAY 20XX\n",
      "Bachelor of Arts Human Resources Management | Jasper University | Ft. Lauderdale, FL\n",
      "3.8 GPA • Member of university’s Honor Society\n",
      "Activities\n",
      "Literature • Environmental conservation • Art • Yoga • Skiing • Travel\n"
     ]
    }
   ],
   "source": [
    "pdf_path=\"Resume.pdf\"\n",
    "resume_text=extract_text_from_pdf(pdf_path)\n",
    "\n",
    "print(\"\\nExtracted Text from PDF: \")\n",
    "print(resume_text)"
   ]
  },
  {
   "cell_type": "markdown",
   "metadata": {},
   "source": [
    "Setting GenAI API key"
   ]
  },
  {
   "cell_type": "code",
   "execution_count": 21,
   "metadata": {},
   "outputs": [
    {
     "name": "stdout",
     "output_type": "stream",
     "text": [
      "Defaulting to user installation because normal site-packages is not writeable\n",
      "Requirement already satisfied: google.generativeai in c:\\users\\hp\\appdata\\roaming\\python\\python313\\site-packages (0.8.4)\n",
      "Requirement already satisfied: python-dotenv in c:\\users\\hp\\appdata\\roaming\\python\\python313\\site-packages (1.1.0)\n",
      "Requirement already satisfied: google-ai-generativelanguage==0.6.15 in c:\\users\\hp\\appdata\\roaming\\python\\python313\\site-packages (from google.generativeai) (0.6.15)\n",
      "Requirement already satisfied: google-api-core in c:\\users\\hp\\appdata\\roaming\\python\\python313\\site-packages (from google.generativeai) (2.24.2)\n",
      "Requirement already satisfied: google-api-python-client in c:\\users\\hp\\appdata\\roaming\\python\\python313\\site-packages (from google.generativeai) (2.166.0)\n",
      "Requirement already satisfied: google-auth>=2.15.0 in c:\\users\\hp\\appdata\\roaming\\python\\python313\\site-packages (from google.generativeai) (2.38.0)\n",
      "Requirement already satisfied: protobuf in c:\\users\\hp\\appdata\\roaming\\python\\python313\\site-packages (from google.generativeai) (5.29.4)\n",
      "Requirement already satisfied: pydantic in c:\\users\\hp\\appdata\\roaming\\python\\python313\\site-packages (from google.generativeai) (2.11.2)\n",
      "Requirement already satisfied: tqdm in c:\\users\\hp\\appdata\\roaming\\python\\python313\\site-packages (from google.generativeai) (4.67.1)\n",
      "Requirement already satisfied: typing-extensions in c:\\users\\hp\\appdata\\roaming\\python\\python313\\site-packages (from google.generativeai) (4.13.1)\n",
      "Requirement already satisfied: proto-plus<2.0.0dev,>=1.22.3 in c:\\users\\hp\\appdata\\roaming\\python\\python313\\site-packages (from google-ai-generativelanguage==0.6.15->google.generativeai) (1.26.1)\n",
      "Requirement already satisfied: googleapis-common-protos<2.0.0,>=1.56.2 in c:\\users\\hp\\appdata\\roaming\\python\\python313\\site-packages (from google-api-core->google.generativeai) (1.69.2)\n",
      "Requirement already satisfied: requests<3.0.0,>=2.18.0 in c:\\users\\hp\\appdata\\roaming\\python\\python313\\site-packages (from google-api-core->google.generativeai) (2.32.3)\n",
      "Requirement already satisfied: cachetools<6.0,>=2.0.0 in c:\\users\\hp\\appdata\\roaming\\python\\python313\\site-packages (from google-auth>=2.15.0->google.generativeai) (5.5.2)\n",
      "Requirement already satisfied: pyasn1-modules>=0.2.1 in c:\\users\\hp\\appdata\\roaming\\python\\python313\\site-packages (from google-auth>=2.15.0->google.generativeai) (0.4.2)\n",
      "Requirement already satisfied: rsa<5,>=3.1.4 in c:\\users\\hp\\appdata\\roaming\\python\\python313\\site-packages (from google-auth>=2.15.0->google.generativeai) (4.9)\n",
      "Requirement already satisfied: httplib2<1.0.0,>=0.19.0 in c:\\users\\hp\\appdata\\roaming\\python\\python313\\site-packages (from google-api-python-client->google.generativeai) (0.22.0)\n",
      "Requirement already satisfied: google-auth-httplib2<1.0.0,>=0.2.0 in c:\\users\\hp\\appdata\\roaming\\python\\python313\\site-packages (from google-api-python-client->google.generativeai) (0.2.0)\n",
      "Requirement already satisfied: uritemplate<5,>=3.0.1 in c:\\users\\hp\\appdata\\roaming\\python\\python313\\site-packages (from google-api-python-client->google.generativeai) (4.1.1)\n",
      "Requirement already satisfied: annotated-types>=0.6.0 in c:\\users\\hp\\appdata\\roaming\\python\\python313\\site-packages (from pydantic->google.generativeai) (0.7.0)\n",
      "Requirement already satisfied: pydantic-core==2.33.1 in c:\\users\\hp\\appdata\\roaming\\python\\python313\\site-packages (from pydantic->google.generativeai) (2.33.1)\n",
      "Requirement already satisfied: typing-inspection>=0.4.0 in c:\\users\\hp\\appdata\\roaming\\python\\python313\\site-packages (from pydantic->google.generativeai) (0.4.0)\n",
      "Requirement already satisfied: colorama in c:\\users\\hp\\appdata\\roaming\\python\\python313\\site-packages (from tqdm->google.generativeai) (0.4.6)\n",
      "Requirement already satisfied: grpcio<2.0dev,>=1.33.2 in c:\\users\\hp\\appdata\\roaming\\python\\python313\\site-packages (from google-api-core[grpc]!=2.0.*,!=2.1.*,!=2.10.*,!=2.2.*,!=2.3.*,!=2.4.*,!=2.5.*,!=2.6.*,!=2.7.*,!=2.8.*,!=2.9.*,<3.0.0dev,>=1.34.1->google-ai-generativelanguage==0.6.15->google.generativeai) (1.71.0)\n",
      "Requirement already satisfied: grpcio-status<2.0.dev0,>=1.33.2 in c:\\users\\hp\\appdata\\roaming\\python\\python313\\site-packages (from google-api-core[grpc]!=2.0.*,!=2.1.*,!=2.10.*,!=2.2.*,!=2.3.*,!=2.4.*,!=2.5.*,!=2.6.*,!=2.7.*,!=2.8.*,!=2.9.*,<3.0.0dev,>=1.34.1->google-ai-generativelanguage==0.6.15->google.generativeai) (1.71.0)\n",
      "Requirement already satisfied: pyparsing!=3.0.0,!=3.0.1,!=3.0.2,!=3.0.3,<4,>=2.4.2 in c:\\users\\hp\\appdata\\roaming\\python\\python313\\site-packages (from httplib2<1.0.0,>=0.19.0->google-api-python-client->google.generativeai) (3.2.0)\n",
      "Requirement already satisfied: pyasn1<0.7.0,>=0.6.1 in c:\\users\\hp\\appdata\\roaming\\python\\python313\\site-packages (from pyasn1-modules>=0.2.1->google-auth>=2.15.0->google.generativeai) (0.6.1)\n",
      "Requirement already satisfied: charset-normalizer<4,>=2 in c:\\users\\hp\\appdata\\roaming\\python\\python313\\site-packages (from requests<3.0.0,>=2.18.0->google-api-core->google.generativeai) (3.4.1)\n",
      "Requirement already satisfied: idna<4,>=2.5 in c:\\users\\hp\\appdata\\roaming\\python\\python313\\site-packages (from requests<3.0.0,>=2.18.0->google-api-core->google.generativeai) (3.10)\n",
      "Requirement already satisfied: urllib3<3,>=1.21.1 in c:\\users\\hp\\appdata\\roaming\\python\\python313\\site-packages (from requests<3.0.0,>=2.18.0->google-api-core->google.generativeai) (2.3.0)\n",
      "Requirement already satisfied: certifi>=2017.4.17 in c:\\users\\hp\\appdata\\roaming\\python\\python313\\site-packages (from requests<3.0.0,>=2.18.0->google-api-core->google.generativeai) (2025.1.31)\n",
      "Note: you may need to restart the kernel to use updated packages.\n"
     ]
    }
   ],
   "source": [
    "%pip install google.generativeai python-dotenv"
   ]
  },
  {
   "cell_type": "code",
   "execution_count": 20,
   "metadata": {},
   "outputs": [],
   "source": [
    "import google.generativeai as genai\n",
    "import os\n",
    "from dotenv import load_dotenv\n",
    "\n",
    "load_dotenv()\n",
    "genai.configure(api_key=os.getenv(\"GOOGLE_API_KEY\"))\n",
    "model=genai.GenerativeModel(\"gemini-1.5-flash\")"
   ]
  },
  {
   "cell_type": "code",
   "execution_count": 10,
   "metadata": {},
   "outputs": [],
   "source": [
    "response=model.generate_content(\"What is capital of Germany?\")"
   ]
  },
  {
   "cell_type": "code",
   "execution_count": 11,
   "metadata": {},
   "outputs": [
    {
     "name": "stdout",
     "output_type": "stream",
     "text": [
      "response:\n",
      "GenerateContentResponse(\n",
      "    done=True,\n",
      "    iterator=None,\n",
      "    result=protos.GenerateContentResponse({\n",
      "      \"candidates\": [\n",
      "        {\n",
      "          \"content\": {\n",
      "            \"parts\": [\n",
      "              {\n",
      "                \"text\": \"The capital of Germany is **Berlin**.\\n\"\n",
      "              }\n",
      "            ],\n",
      "            \"role\": \"model\"\n",
      "          },\n",
      "          \"finish_reason\": \"STOP\",\n",
      "          \"avg_logprobs\": -0.004577662381860945\n",
      "        }\n",
      "      ],\n",
      "      \"usage_metadata\": {\n",
      "        \"prompt_token_count\": 6,\n",
      "        \"candidates_token_count\": 9,\n",
      "        \"total_token_count\": 15\n",
      "      },\n",
      "      \"model_version\": \"gemini-1.5-flash\"\n",
      "    }),\n",
      ")\n"
     ]
    }
   ],
   "source": [
    "print(response)"
   ]
  },
  {
   "cell_type": "code",
   "execution_count": 12,
   "metadata": {},
   "outputs": [
    {
     "name": "stdout",
     "output_type": "stream",
     "text": [
      "The capital of Germany is **Berlin**.\n",
      "\n"
     ]
    }
   ],
   "source": [
    "print(response.text)"
   ]
  },
  {
   "cell_type": "markdown",
   "metadata": {},
   "source": [
    "Resume Analysis"
   ]
  },
  {
   "cell_type": "code",
   "execution_count": 16,
   "metadata": {},
   "outputs": [],
   "source": [
    "def analyse_resume(resume_text,job_description=None):\n",
    "    if not resume_text:\n",
    "        return {\"error\": \"Resume text is required for analysis.\"}\n",
    "    \n",
    "    model=genai.GenerativeModel(\"gemini-1.5-flash\")\n",
    "\n",
    "    base_prompt=f\"\"\" \n",
    "    lore ipsom\n",
    "\n",
    "    Resume:\n",
    "    {resume_text}\n",
    "    \"\"\"\n",
    "\n",
    "    if job_description:\n",
    "        base_prompt+=f\"\"\"\n",
    "        Additonally, compare this resume to the following job description.\n",
    "\n",
    "        Job Description:\n",
    "        {job_description}\n",
    "\n",
    "        Highlight the Strengths, Weaknesses, Skills, Recommendations for Improvement, Skills to Improve, Suggested Courses, Overall Assessment \n",
    "        \"\"\"\n",
    "    \n",
    "    response=model.generate_content(base_prompt)\n",
    "\n",
    "    analysis=response.text.strip()\n",
    "    return analysis"
   ]
  },
  {
   "cell_type": "code",
   "execution_count": 18,
   "metadata": {},
   "outputs": [
    {
     "name": "stdout",
     "output_type": "stream",
     "text": [
      "This resume is good, but could be improved with a few revisions to make it even more impactful. Here's a revised version with explanations of the changes:\n",
      "\n",
      "**Revised Resume:**\n",
      "\n",
      "**Janna Gardner**\n",
      "4567 Main Street, Chicago, Illinois 98052 • (716) 555-0100 • janna@example.com | LinkedIn Profile URL (Optional)\n",
      "\n",
      "\n",
      "**Summary**\n",
      "\n",
      "Highly motivated and results-oriented Human Resources Generalist with 6+ years of experience driving improvements in recruitment, employee retention, and HR policy compliance at Lamna Healthcare Company. Proven ability to lead teams, develop and implement innovative HR solutions, and build positive work environments.  Expertise in talent acquisition, policy development, and compliance with OSHA and federal/state regulations.\n",
      "\n",
      "\n",
      "**Experience**\n",
      "\n",
      "**Human Resources Generalist | Lamna Healthcare Company | Chicago, IL | 20XX – Present**\n",
      "\n",
      "* Spearheaded the revision of company hiring practices, vacation policies, and other HR policies to ensure full compliance with OSHA and all applicable federal, state, and local labor regulations.  This resulted in a >10% increase in employee retention, achieving >90% retention over two years.\n",
      "* Developed and implemented targeted recruitment programs to significantly increase minority recruitment, exceeding affirmative action requirements.\n",
      "* Led a cross-functional team in the design and launch of a new recruitment website, reducing year-over-year recruitment costs by 14%.\n",
      "\n",
      "\n",
      "**Human Resources Intern | Wholeness Healthcare | Boomtown, OH | June 20XX – August 20XX**\n",
      "\n",
      "* Supported recruitment efforts through proactive outreach to prospective employees.\n",
      "* Organized and facilitated employee seminars on available benefits, increasing employee understanding and satisfaction.\n",
      "* Coordinated hospital-wide guest speaker symposia on new employment laws, workplace morale, and confidence-building techniques.\n",
      "* Performed various administrative tasks.\n",
      "\n",
      "\n",
      "**Skills**\n",
      "\n",
      "* **HR Expertise:**  Policy Development, Compliance (OSHA, Federal/State Labor Laws), Recruitment, Employee Relations, Onboarding, Benefits Administration\n",
      "* **Software Proficiency:**  [List specific project management software, e.g., Asana, Monday.com, etc.]\n",
      "* **Communication & Interpersonal:**  Public Speaking, Conflict Resolution, Team Collaboration, Negotiation\n",
      "* **Other Skills:** Data Analysis, 96 WPM Typing, Excellent Time Management\n",
      "\n",
      "\n",
      "**Education**\n",
      "\n",
      "**Bachelor of Arts, Human Resources Management | Jasper University | Ft. Lauderdale, FL | May 20XX**\n",
      "* GPA: 3.8\n",
      "* Member, University Honor Society\n",
      "\n",
      "\n",
      "**Why the Changes?**\n",
      "\n",
      "* **Summary:**  Added a strong summary statement at the top to immediately highlight key qualifications and accomplishments. This grabs the recruiter's attention upfront.\n",
      "* **Quantifiable Results:**  Phrases like \"increased by 10%\" and \"reduced by 14%\" are powerful.  Quantify your accomplishments whenever possible.  Use action verbs (Spearheaded, Developed, Led).\n",
      "* **Skills Section:**  Organized skills into relevant categories (HR Expertise, Software Proficiency, etc.) for easier readability.  Be specific about software used.\n",
      "* **Keywords:** The revised resume uses keywords frequently found in HR job descriptions, increasing the chances of it being picked up by applicant tracking systems (ATS).\n",
      "* **Conciseness:**  Removed redundancy and streamlined the language for a more impactful read.\n",
      "* **LinkedIn Profile:** Adding a LinkedIn profile URL allows recruiters to quickly access more information about you.\n",
      "\n",
      "\n",
      "Remember to replace \"20XX\" with the actual years and add specific software names to the skills section.  Tailor this resume to each job you apply for, highlighting the skills and experiences most relevant to the specific position.\n"
     ]
    }
   ],
   "source": [
    "print(analyse_resume(resume_text))"
   ]
  }
 ],
 "metadata": {
  "kernelspec": {
   "display_name": "Python 3",
   "language": "python",
   "name": "python3"
  },
  "language_info": {
   "codemirror_mode": {
    "name": "ipython",
    "version": 3
   },
   "file_extension": ".py",
   "mimetype": "text/x-python",
   "name": "python",
   "nbconvert_exporter": "python",
   "pygments_lexer": "ipython3",
   "version": "3.13.2"
  }
 },
 "nbformat": 4,
 "nbformat_minor": 2
}
